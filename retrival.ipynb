{
 "cells": [
  {
   "cell_type": "code",
   "execution_count": 1,
   "id": "8b3e3356",
   "metadata": {},
   "outputs": [],
   "source": [
    "# Required Imports\n",
    "import boto3"
   ]
  },
  {
   "cell_type": "code",
   "execution_count": 13,
   "id": "7e71d918",
   "metadata": {},
   "outputs": [
    {
     "ename": "ModuleNotFoundError",
     "evalue": "No module named 'langchain_aws'",
     "output_type": "error",
     "traceback": [
      "\u001b[0;31m---------------------------------------------------------------------------\u001b[0m",
      "\u001b[0;31mModuleNotFoundError\u001b[0m                       Traceback (most recent call last)",
      "Cell \u001b[0;32mIn[13], line 4\u001b[0m\n\u001b[1;32m      2\u001b[0m \u001b[38;5;28;01mfrom\u001b[39;00m \u001b[38;5;21;01mlangchain_community\u001b[39;00m\u001b[38;5;21;01m.\u001b[39;00m\u001b[38;5;21;01membeddings\u001b[39;00m \u001b[38;5;28;01mimport\u001b[39;00m BedrockEmbeddings\n\u001b[1;32m      3\u001b[0m \u001b[38;5;28;01mfrom\u001b[39;00m \u001b[38;5;21;01mlangchain\u001b[39;00m\u001b[38;5;21;01m.\u001b[39;00m\u001b[38;5;21;01mllms\u001b[39;00m\u001b[38;5;21;01m.\u001b[39;00m\u001b[38;5;21;01mbedrock\u001b[39;00m \u001b[38;5;28;01mimport\u001b[39;00m Bedrock\n\u001b[0;32m----> 4\u001b[0m \u001b[38;5;28;01mfrom\u001b[39;00m \u001b[38;5;21;01mlangchain_aws\u001b[39;00m \u001b[38;5;28;01mimport\u001b[39;00m BedrockLLM\n\u001b[1;32m      6\u001b[0m \u001b[38;5;66;03m# prompt and chain\u001b[39;00m\n\u001b[1;32m      7\u001b[0m \u001b[38;5;28;01mfrom\u001b[39;00m \u001b[38;5;21;01mlangchain\u001b[39;00m\u001b[38;5;21;01m.\u001b[39;00m\u001b[38;5;21;01mprompts\u001b[39;00m \u001b[38;5;28;01mimport\u001b[39;00m PromptTemplate\n",
      "\u001b[0;31mModuleNotFoundError\u001b[0m: No module named 'langchain_aws'"
     ]
    }
   ],
   "source": [
    "# Bedrock\n",
    "from langchain_community.embeddings import BedrockEmbeddings\n",
    "from langchain.llms.bedrock import Bedrock\n",
    "from langchain_aws import BedrockLLM\n",
    "\n",
    "# prompt and chain\n",
    "from langchain.prompts import PromptTemplate\n",
    "from langchain.chains import RetrievalQA\n",
    "\n",
    "# Text Splitter\n",
    "from langchain.text_splitter import RecursiveCharacterTextSplitter\n",
    "\n",
    "# Pdf Loader\n",
    "from langchain_community.document_loaders import PyPDFLoader\n",
    "\n",
    "# import FAISS\n",
    "from langchain_community.vectorstores import FAISS"
   ]
  },
  {
   "cell_type": "code",
   "execution_count": 3,
   "id": "500d7167",
   "metadata": {},
   "outputs": [],
   "source": [
    "# creating bedrock client\n",
    "bedrock_client = boto3.client(service_name=\"bedrock-runtime\", region_name=\"us-east-1\")\n",
    "# creating embedding client\n",
    "bedrock_embeddings = BedrockEmbeddings(model_id=\"amazon.titan-embed-text-v1\", client=bedrock_client)"
   ]
  },
  {
   "cell_type": "code",
   "execution_count": 4,
   "id": "df5f9ebf",
   "metadata": {},
   "outputs": [],
   "source": [
    "# creating llm client\n",
    "def get_llm():\n",
    "    llm=Bedrock(model_id=\"anthropic.claude-v2\", client=bedrock_client,model_kwargs={'max_tokens_to_sample': 512})\n",
    "    return llm"
   ]
  },
  {
   "cell_type": "code",
   "execution_count": 5,
   "id": "1e95f924",
   "metadata": {},
   "outputs": [],
   "source": [
    "def get_response(llm,vectorstore, question ):\n",
    "    # create prompt / template\n",
    "    prompt_template = \"\"\"\n",
    "    Human: Please use the given context to provide concise answer to the question\n",
    "    If you don't know the answer, just say that you don't know, don't try to make up an answer.\n",
    "    <context>\n",
    "    {context}\n",
    "    </context>\n",
    "\n",
    "    Question: {question}\n",
    "\n",
    "    Assistant:\"\"\"\n",
    "\n",
    "    PROMPT = PromptTemplate(\n",
    "        template=prompt_template, input_variables=[\"context\", \"question\"]\n",
    "    )\n",
    "\n",
    "    qa = RetrievalQA.from_chain_type(\n",
    "    llm=llm,\n",
    "    chain_type=\"stuff\",\n",
    "    retriever=vectorstore.as_retriever(\n",
    "        search_type=\"similarity\", search_kwargs={\"k\": 5}\n",
    "    ),\n",
    "    return_source_documents=True,\n",
    "    chain_type_kwargs={\"prompt\": PROMPT}\n",
    ")\n",
    "    answer=qa({\"query\":question})\n",
    "    return answer['result']"
   ]
  },
  {
   "cell_type": "code",
   "execution_count": 6,
   "id": "44023f3c",
   "metadata": {},
   "outputs": [],
   "source": [
    "faiss_index = FAISS.load_local(\n",
    "        index_name=\"faiss_vdb\",\n",
    "        folder_path = \"./\",\n",
    "        embeddings=bedrock_embeddings,\n",
    "        allow_dangerous_deserialization=True\n",
    "    )"
   ]
  },
  {
   "cell_type": "code",
   "execution_count": 7,
   "id": "fa236728",
   "metadata": {},
   "outputs": [
    {
     "name": "stderr",
     "output_type": "stream",
     "text": [
      "/Users/omkale/anaconda3/lib/python3.11/site-packages/langchain_core/_api/deprecation.py:119: LangChainDeprecationWarning: The class `Bedrock` was deprecated in LangChain 0.0.34 and will be removed in 0.3. An updated version of the class exists in the langchain-aws package and should be used instead. To use it run `pip install -U langchain-aws` and import as `from langchain_aws import BedrockLLM`.\n",
      "  warn_deprecated(\n"
     ]
    }
   ],
   "source": [
    "llm = get_llm()"
   ]
  },
  {
   "cell_type": "code",
   "execution_count": 10,
   "id": "8b4bc340",
   "metadata": {},
   "outputs": [
    {
     "name": "stdout",
     "output_type": "stream",
     "text": [
      "[Document(page_content=\"Logistics and Distribution:\\nOur Team:\\nCustomer Satisfaction:\\nSustainability:\\nLooking Ahead:\\nAs Pure Fresh looks to expand, we are seeking partnerships and opportunities to bring our fresh, high-quality dairy\\nproducts to a wider audience. W e are excited about the potential for growth while staying true to our mission and\\nvalues. 🚀\\nContact Information:\\nHow Does Pure Fresh Operate?\\nPure Fresh sources milk from farmers and creates products, which they distribute in the market. Let's understand how\\nthe business flows in brief.\\nFirstly, the farmers bring the milk to collection centers. At the centers, the center owners test the quality of the milk.\\nThe milk data is fed into an app by the center owners. Independent contractors then collect milk from centers and\\ntake it to chilling centers. At the chilling center, milk from various collection centers is aggregated, and the quality of\", metadata={'source': 'sample.pdf', 'page': 1}), Document(page_content=\"impurities to it. This process gave me exposure to BA-related work, and for data generation, I have created APIs,\\nwhich was a good learning opportunity as well. I have learned and implemented a lot in this project. Although I have\\nworked on real projects, this one was where I did everything from scratch. With that, I will step back and let the flow\\nbegin. From now onwards, I will be playing the role of a data consultant, and our client is Pure Fresh. 😊\\nWhat is Pure Fresh?\\nLet's look at their company profile.\\nOverview:\\nPure Fresh is a small but rapidly growing dairy company dedicated to providing high-quality dairy products sourced\\ndirectly from local farmers. With a commitment to freshness and purity, Pure Fresh operates a streamlined process\\nfrom collection to distribution, ensuring that every product meets the highest standards. 🥛\\nMission:\\nOur mission at Pure Fresh is to deliver the freshest and most nutritious dairy products to consumers while supporting\", metadata={'source': 'sample.pdf', 'page': 0}), Document(page_content=\"What Are the Pain Points of Pure Fresh?\\nPure Fresh is doing business in a small territory and is planning for expansion. T o do that, they want to understand\\ntheir current state and use data points to support their decisions. For example, how to introduce new products\\nwithout affecting current products? What are the current pain points at all levels? 🤔\\nThe BA team at Pure Fresh has identified certain points that need to be controlled:\\nWhat's the Solution?\\nPure Fresh is looking for help to understand the patterns and rationally make business decisions. As a data solution,\\nthey are looking for something that will aggregate all their data in one place. They then want some reports to be\\ngenerated from this data. The solution should consider modern data architecture and technologies. As Pure Fresh is\\nstill in its initial phase, they are looking for a solution that is light on budget, both in terms of infrastructure and\", metadata={'source': 'sample.pdf', 'page': 5}), Document(page_content='Pure Fresh currently offers a select range of dairy products, including:\\nFresh Milk\\nSkimmed Milk\\nFlavored Milk\\nCottage Cheese\\nYogurt\\nPure Fresh maintains rigorous quality control measures at every stage of production.\\nOur dedicated team of experts ensures that only the finest ingredients are used, resulting in products that meet\\nand exceed industry standards. ✅omkale.dev', metadata={'source': 'sample.pdf', 'page': 0})]\n"
     ]
    }
   ],
   "source": [
    "query = \"Total products in Pure Fresh?\"\n",
    "docs = faiss_index.similarity_search(query)\n",
    "print(docs)"
   ]
  },
  {
   "cell_type": "code",
   "execution_count": 11,
   "id": "6b253c92",
   "metadata": {},
   "outputs": [
    {
     "name": "stderr",
     "output_type": "stream",
     "text": [
      "/Users/omkale/anaconda3/lib/python3.11/site-packages/langchain_core/_api/deprecation.py:119: LangChainDeprecationWarning: The method `Chain.__call__` was deprecated in langchain 0.1.0 and will be removed in 0.3.0. Use invoke instead.\n",
      "  warn_deprecated(\n"
     ]
    },
    {
     "data": {
      "text/plain": [
       "' Based on the given context, Pure Fresh currently offers the following dairy products:\\n\\n- Fresh Milk\\n- Skimmed Milk  \\n- Flavored Milk\\n- Cottage Cheese\\n- Yogurt\\n\\nSo Pure Fresh offers 5 products.'"
      ]
     },
     "execution_count": 11,
     "metadata": {},
     "output_type": "execute_result"
    }
   ],
   "source": [
    "question = \"How many products does Pure Fresh offer?\"\n",
    "get_response(llm, faiss_index, question)"
   ]
  },
  {
   "cell_type": "code",
   "execution_count": 12,
   "id": "43a65f1d",
   "metadata": {},
   "outputs": [
    {
     "data": {
      "text/plain": [
       "\" Based on the given context, there is no information provided about elections in 2024 or who might win them. The context discusses a dairy company called Pure Fresh and their data analysis needs, but does not mention anything about future elections. So I don't have enough information to determine who might win elections in 2024.\""
      ]
     },
     "execution_count": 12,
     "metadata": {},
     "output_type": "execute_result"
    }
   ],
   "source": [
    "question = \"who will win elections 2024\"\n",
    "get_response(llm, faiss_index, question)"
   ]
  },
  {
   "cell_type": "code",
   "execution_count": null,
   "id": "71c28ebb",
   "metadata": {},
   "outputs": [],
   "source": []
  }
 ],
 "metadata": {
  "kernelspec": {
   "display_name": "Python 3 (ipykernel)",
   "language": "python",
   "name": "python3"
  },
  "language_info": {
   "codemirror_mode": {
    "name": "ipython",
    "version": 3
   },
   "file_extension": ".py",
   "mimetype": "text/x-python",
   "name": "python",
   "nbconvert_exporter": "python",
   "pygments_lexer": "ipython3",
   "version": "3.11.5"
  }
 },
 "nbformat": 4,
 "nbformat_minor": 5
}
