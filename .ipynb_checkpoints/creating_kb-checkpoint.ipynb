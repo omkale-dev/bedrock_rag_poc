{
 "cells": [
  {
   "cell_type": "code",
   "execution_count": 11,
   "id": "a9df25dc",
   "metadata": {},
   "outputs": [],
   "source": [
    "# Step 1: Install Required Libraries\n",
    "# !pip install faiss-cpu langchain langchain-community "
   ]
  },
  {
   "cell_type": "code",
   "execution_count": 12,
   "id": "99c6dc32",
   "metadata": {},
   "outputs": [],
   "source": [
    "# Required Imports\n",
    "import boto3\n",
    "import os\n",
    "import uuid\n",
    "\n",
    "## Bedrock\n",
    "from langchain_community.embeddings import BedrockEmbeddings\n",
    "\n",
    "## Text Splitter\n",
    "from langchain.text_splitter import RecursiveCharacterTextSplitter\n",
    "\n",
    "## Pdf Loader\n",
    "from langchain_community.document_loaders import PyPDFLoader\n",
    "\n",
    "## import FAISS\n",
    "from langchain_community.vectorstores import FAISS"
   ]
  },
  {
   "cell_type": "code",
   "execution_count": 13,
   "id": "2d32a8ff",
   "metadata": {},
   "outputs": [],
   "source": [
    "## Creating Bedrock Embdedding Client\n",
    "bedrock_client = boto3.client(service_name=\"bedrock-runtime\",  region_name=\"us-east-1\")\n",
    "bedrock_embeddings = BedrockEmbeddings(model_id=\"amazon.titan-embed-text-v1\", client=bedrock_client)"
   ]
  },
  {
   "cell_type": "code",
   "execution_count": 14,
   "id": "15056b3a",
   "metadata": {},
   "outputs": [],
   "source": [
    "## Loading Pdf\n",
    "loader = PyPDFLoader(\"sample.pdf\")\n",
    "pages = loader.load_and_split()\n",
    "# print(pages)"
   ]
  },
  {
   "cell_type": "code",
   "execution_count": 15,
   "id": "1b5173cf",
   "metadata": {},
   "outputs": [],
   "source": [
    "## Split the pages / text into chunks\n",
    "def split_text(pages, chunk_size, chunk_overlap):\n",
    "    text_splitter = RecursiveCharacterTextSplitter(chunk_size=chunk_size, chunk_overlap=chunk_overlap)\n",
    "    docs = text_splitter.split_documents(pages)\n",
    "    return docs"
   ]
  },
  {
   "cell_type": "code",
   "execution_count": 16,
   "id": "3a99dc93",
   "metadata": {},
   "outputs": [],
   "source": [
    "splitted_docs = split_text(pages, 1000, 200)"
   ]
  },
  {
   "cell_type": "code",
   "execution_count": 17,
   "id": "96bd4b79",
   "metadata": {},
   "outputs": [
    {
     "name": "stdout",
     "output_type": "stream",
     "text": [
      "13\n"
     ]
    }
   ],
   "source": [
    "print(len(splitted_docs))\n",
    "# print(splitted_docs[0])"
   ]
  },
  {
   "cell_type": "code",
   "execution_count": 8,
   "id": "312c21a7",
   "metadata": {},
   "outputs": [],
   "source": [
    "## create vector store\n",
    "def create_vector_store(request_id, documents):\n",
    "    index=FAISS.from_documents(documents, bedrock_embeddings)\n",
    "    file_name=f\"{request_id}\"\n",
    "    folder_path=\"./\"\n",
    "    index.save_local(index_name=file_name, folder_path=folder_path)"
   ]
  },
  {
   "cell_type": "code",
   "execution_count": 10,
   "id": "c9547b9f",
   "metadata": {},
   "outputs": [],
   "source": [
    "## creating vectorstore kb\n",
    "create_vector_store(\"1\", splitted_docs)"
   ]
  }
 ],
 "metadata": {
  "kernelspec": {
   "display_name": "Python 3 (ipykernel)",
   "language": "python",
   "name": "python3"
  },
  "language_info": {
   "codemirror_mode": {
    "name": "ipython",
    "version": 3
   },
   "file_extension": ".py",
   "mimetype": "text/x-python",
   "name": "python",
   "nbconvert_exporter": "python",
   "pygments_lexer": "ipython3",
   "version": "3.11.5"
  }
 },
 "nbformat": 4,
 "nbformat_minor": 5
}
